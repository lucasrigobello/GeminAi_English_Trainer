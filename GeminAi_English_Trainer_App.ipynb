{
  "nbformat": 4,
  "nbformat_minor": 0,
  "metadata": {
    "colab": {
      "provenance": [],
      "authorship_tag": "ABX9TyNk4aOA3u6N6cQMS/PKQ0h8",
      "include_colab_link": true
    },
    "kernelspec": {
      "name": "python3",
      "display_name": "Python 3"
    },
    "language_info": {
      "name": "python"
    }
  },
  "cells": [
    {
      "cell_type": "markdown",
      "metadata": {
        "id": "view-in-github",
        "colab_type": "text"
      },
      "source": [
        "<a href=\"https://colab.research.google.com/github/lucasrigobello/GeminAi_English_Trainer/blob/main/GeminAi_English_Trainer_App.ipynb\" target=\"_parent\"><img src=\"https://colab.research.google.com/assets/colab-badge.svg\" alt=\"Open In Colab\"/></a>"
      ]
    },
    {
      "cell_type": "markdown",
      "source": [
        "#GeminAi English Trainer"
      ],
      "metadata": {
        "id": "nEP-GqIbNTyy"
      }
    },
    {
      "cell_type": "code",
      "source": [],
      "metadata": {
        "id": "1hJkpRX_NVYH"
      },
      "execution_count": null,
      "outputs": []
    }
  ]
}