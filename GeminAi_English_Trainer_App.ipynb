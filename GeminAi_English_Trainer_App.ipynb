{
  "nbformat": 4,
  "nbformat_minor": 0,
  "metadata": {
    "colab": {
      "provenance": [],
      "authorship_tag": "ABX9TyP5GZD5g1fAoJ9rjGCRSR4Z",
      "include_colab_link": true
    },
    "kernelspec": {
      "name": "python3",
      "display_name": "Python 3"
    },
    "language_info": {
      "name": "python"
    }
  },
  "cells": [
    {
      "cell_type": "markdown",
      "metadata": {
        "id": "view-in-github",
        "colab_type": "text"
      },
      "source": [
        "<a href=\"https://colab.research.google.com/github/lucasrigobello/GeminAi_English_Trainer/blob/main/GeminAi_English_Trainer_App.ipynb\" target=\"_parent\"><img src=\"https://colab.research.google.com/assets/colab-badge.svg\" alt=\"Open In Colab\"/></a>"
      ]
    },
    {
      "cell_type": "markdown",
      "source": [
        "#GeminAi English Trainer\n",
        "\n",
        "Welcome to our cutting-edge app designed to prepare you for English proficiency exams like never before.\n",
        "\n",
        "<img src=\"https://github.com/lucasrigobello/GeminAi_English_Trainer/blob/2f1ac8074a47a4d2e52fa3f66195d39a2de527ac/GeminAiEnglishTrainer.png?raw=true\" width=\"250\">\n",
        "\n",
        "The GeminAi English Trainer App uses the Gemini generative artificial intelligence for teaching and learning English. Harnessing the power of generative artificial intelligence, we offer a comprehensive platform for targeted training and exam readiness. Whether you're aiming for certifications or seeking to enhance your language skills, our app provides a tailored learning experience that adapts to your needs and accelerates your progress. With interactive exercises, personalized feedback, and simulated exam environments, we empower you to confidently master the language and excel in your proficiency goals.\n",
        "\n",
        "Get ready to embark on a journey of language mastery like never before. Welcome to GeminAi English Trainer.\n",
        "\n"
      ],
      "metadata": {
        "id": "nEP-GqIbNTyy"
      }
    },
    {
      "cell_type": "markdown",
      "source": [
        "## **Rode cada célula de código** (botão play a esquerda de cada célula)"
      ],
      "metadata": {
        "id": "k9aecs9nM0Lt"
      }
    },
    {
      "cell_type": "markdown",
      "source": [
        "# Preparando o Aplicativo\n"
      ],
      "metadata": {
        "id": "QSdGyYhn1RD_"
      }
    },
    {
      "cell_type": "code",
      "source": [
        "# install the packages needed\n",
        "!pip install ffmpeg-python"
      ],
      "metadata": {
        "id": "ThRR42WW0W75"
      },
      "execution_count": null,
      "outputs": []
    },
    {
      "cell_type": "code",
      "source": [
        "# Importing the packages\n",
        "from IPython.display import Markdown\n",
        "import random\n",
        "import gdown\n",
        "\n",
        "# pagakes for the audio tasks\n",
        "from IPython.display import HTML, Audio\n",
        "from google.colab.output import eval_js\n",
        "from base64 import b64decode\n",
        "import numpy as np\n",
        "import scipy\n",
        "from scipy.io.wavfile import read as wav_read\n",
        "import io\n",
        "import ffmpeg\n",
        "\n",
        "# Google Gemini packages\n",
        "import google.generativeai as genai\n",
        "from google.colab import userdata\n",
        "genai.configure(api_key = userdata.get('secretApiKey'))"
      ],
      "metadata": {
        "id": "1hJkpRX_NVYH"
      },
      "execution_count": null,
      "outputs": []
    },
    {
      "cell_type": "code",
      "source": [
        "# The interface to audio recording\n",
        "\n",
        "AUDIO_HTML = \"\"\"\n",
        "<script>\n",
        "var my_div = document.createElement(\"DIV\");\n",
        "var my_p = document.createElement(\"P\");\n",
        "var my_btn = document.createElement(\"BUTTON\");\n",
        "var t = document.createTextNode(\"Press to start recording\");\n",
        "\n",
        "my_btn.appendChild(t);\n",
        "//my_p.appendChild(my_btn);\n",
        "my_div.appendChild(my_btn);\n",
        "document.body.appendChild(my_div);\n",
        "\n",
        "var base64data = 0;\n",
        "var reader;\n",
        "var recorder, gumStream;\n",
        "var recordButton = my_btn;\n",
        "\n",
        "var handleSuccess = function(stream) {\n",
        "  gumStream = stream;\n",
        "  var options = {\n",
        "    //bitsPerSecond: 8000, //chrome seems to ignore, always 48k\n",
        "    mimeType : 'audio/webm;codecs=opus'\n",
        "    //mimeType : 'audio/webm;codecs=pcm'\n",
        "  };\n",
        "  //recorder = new MediaRecorder(stream, options);\n",
        "  recorder = new MediaRecorder(stream);\n",
        "  recorder.ondataavailable = function(e) {\n",
        "    var url = URL.createObjectURL(e.data);\n",
        "    var preview = document.createElement('audio');\n",
        "    preview.controls = true;\n",
        "    preview.src = url;\n",
        "    document.body.appendChild(preview);\n",
        "\n",
        "    reader = new FileReader();\n",
        "    reader.readAsDataURL(e.data);\n",
        "    reader.onloadend = function() {\n",
        "      base64data = reader.result;\n",
        "      //console.log(\"Inside FileReader:\" + base64data);\n",
        "    }\n",
        "  };\n",
        "  recorder.start();\n",
        "  };\n",
        "\n",
        "recordButton.innerText = \"Recording... press to stop\";\n",
        "\n",
        "navigator.mediaDevices.getUserMedia({audio: true}).then(handleSuccess);\n",
        "\n",
        "\n",
        "function toggleRecording() {\n",
        "  if (recorder && recorder.state == \"recording\") {\n",
        "      recorder.stop();\n",
        "      gumStream.getAudioTracks()[0].stop();\n",
        "      recordButton.innerText = \"Saving the recording... pls wait!\"\n",
        "  }\n",
        "}\n",
        "\n",
        "// https://stackoverflow.com/a/951057\n",
        "function sleep(ms) {\n",
        "  return new Promise(resolve => setTimeout(resolve, ms));\n",
        "}\n",
        "\n",
        "var data = new Promise(resolve=>{\n",
        "//recordButton.addEventListener(\"click\", toggleRecording);\n",
        "recordButton.onclick = ()=>{\n",
        "toggleRecording()\n",
        "\n",
        "sleep(2000).then(() => {\n",
        "  // wait 2000ms for the data to be available...\n",
        "  // ideally this should use something like await...\n",
        "  //console.log(\"Inside data:\" + base64data)\n",
        "  resolve(base64data.toString())\n",
        "\n",
        "});\n",
        "\n",
        "}\n",
        "});\n",
        "\n",
        "</script>\n",
        "\"\"\""
      ],
      "metadata": {
        "id": "-mGJjhvl0oqh"
      },
      "execution_count": null,
      "outputs": []
    },
    {
      "cell_type": "code",
      "source": [
        "# Audio recording function\n",
        "\n",
        "def get_audio():\n",
        "  display(HTML(AUDIO_HTML))\n",
        "  data = eval_js(\"data\")\n",
        "  binary = b64decode(data.split(',')[1])\n",
        "\n",
        "  process = (ffmpeg\n",
        "    .input('pipe:0')\n",
        "    .output('pipe:1', format='wav')\n",
        "    .run_async(pipe_stdin=True, pipe_stdout=True, pipe_stderr=True, quiet=True, overwrite_output=True)\n",
        "  )\n",
        "  output, err = process.communicate(input=binary)\n",
        "\n",
        "  riff_chunk_size = len(output) - 8\n",
        "  # Break up the chunk size into four bytes, held in b.\n",
        "  q = riff_chunk_size\n",
        "  b = []\n",
        "  for i in range(4):\n",
        "      q, r = divmod(q, 256)\n",
        "      b.append(r)\n",
        "\n",
        "  # Replace bytes 4:8 in proc.stdout with the actual size of the RIFF chunk.\n",
        "  riff = output[:4] + bytes(b) + output[8:]\n",
        "\n",
        "  sr, audio = wav_read(io.BytesIO(riff))\n",
        "\n",
        "  return audio, sr"
      ],
      "metadata": {
        "id": "wMfg3IyE0p-0"
      },
      "execution_count": null,
      "outputs": []
    },
    {
      "cell_type": "code",
      "source": [
        "database_dict = {\n",
        "    'Track 1.mp3': '1goSZwV8clvpoRtMYi26MLT1mNrJiaPrS',\n",
        "    'Track 2.mp3': '1VB84t2zhyMhHMvH94a59aEVokOZQte3A',\n",
        "    'Track 3.mp3': '1RISbzsE1Rq1uhtlAU7owiYhV1uKn2Fq3',\n",
        "    'Track 4.mp3': '1G5kCttzbFvX9V9i_0LKxPjjSphhiM0YF',\n",
        "    'Track 5.mp3': '14KYMWak8TD5Reh8TIDXBjz6Ys2jjhDXd',\n",
        "    'Track 6.mp3': '1sEfiwIEaUwRDlqElmHtVfpFJ-aRy_10x',\n",
        "    'Track 7.mp3': '1yg9hH7J9nyhhc_TkmnmCbqSvrEvDH9Ta',\n",
        "    'Track 8.mp3': '1tpthz4XF0WkM7YRhx2Yi-pmbOR_W39WK',\n",
        "    'Track 9.mp3': '1T_unacLuzoZRY7OMwpCmILfJ4g_tb_rJ',\n",
        "    'Track 10.mp3': '1mC9HhiKq0sUHIcHLGVx7jAba2Xt05eet',\n",
        "    'Track 11.mp3': '1MVJnKjwKUMW4Ah93_fcYFybnTmOXlzKi',\n",
        "    'Track 12.mp3': '1f1NRIe4J6B4iuRdOzpohC9iS6P3c5qY0',\n",
        "    'Track 13.mp3': '1MzJkmH9dTeKEHHVF3JW91njWxgLyWiO0',\n",
        "    }\n"
      ],
      "metadata": {
        "id": "nTImxkRQIm6p"
      },
      "execution_count": null,
      "outputs": []
    },
    {
      "cell_type": "markdown",
      "source": [
        "# Escute o áudio a seguir"
      ],
      "metadata": {
        "id": "ClV7yZ3A2ZlI"
      }
    },
    {
      "cell_type": "code",
      "source": [
        "# Selecting a random track option from the database\n",
        "list_number = list(range(1,14))\n",
        "sample_selection = f'Track {random.choice(list_number)}.mp3'\n",
        "\n",
        "# Downlaoding audio track from database on google Drive to the Colab\n",
        "gdown.download(id = database_dict[sample_selection],\n",
        "               output = sample_selection\n",
        "               )"
      ],
      "metadata": {
        "id": "TmiwoKat3H-I"
      },
      "execution_count": null,
      "outputs": []
    },
    {
      "cell_type": "code",
      "source": [
        "# Play the audio\n",
        "display(Markdown(\"## Aperte play para escutar o áudio\"))\n",
        "Audio(sample_selection)"
      ],
      "metadata": {
        "id": "1ep5DHnvNOsG"
      },
      "execution_count": null,
      "outputs": []
    },
    {
      "cell_type": "markdown",
      "source": [
        "# Grave a sua resposta\n",
        "### Explique as ideias presentes no áudio que você acabou de ouvir\n",
        "### Atente-se as questões de pronúncia e gramática"
      ],
      "metadata": {
        "id": "OiJ_y2ZM2yvn"
      }
    },
    {
      "cell_type": "code",
      "source": [
        "# Ao rodar essa célula, a gravação se inicia automaticamente.\n",
        "# Aperte o botão para pausar e encerrar, assim que finalizar sua resposta.\n",
        "# E aguarde que o seu áudio seja salvo.\n",
        "\n",
        "display(Markdown(\"# Gravação já está ativa!\"))\n",
        "display(Markdown(\"### Aperte o botão para pausar e encerrar, assim que finalizar sua resposta\"))\n",
        "audio, sr = get_audio()\n",
        "scipy.io.wavfile.write('recording.wav', sr, audio)"
      ],
      "metadata": {
        "id": "JmJjh9MS0wER"
      },
      "execution_count": null,
      "outputs": []
    },
    {
      "cell_type": "markdown",
      "source": [
        "# Feedback da **GeminAi English Trainer**\n",
        "### Observe as análises e susgestões providas pela GeminAi English Trainer\n",
        "\n",
        "*   Coerência com o texto original\n",
        "*   Sugestões de correções de pronúncia\n",
        "*   Sugestões de correções gramaticais\n",
        "\n",
        "\n",
        "\n"
      ],
      "metadata": {
        "id": "LrMrGS_P3UWX"
      }
    },
    {
      "cell_type": "code",
      "source": [
        "# Preparing the Generative Model Gemini 1.5\n",
        "model = genai.GenerativeModel('gemini-1.5-pro-latest')\n",
        "chat = model.start_chat(history=[])\n",
        "\n",
        "## If it gets an error, please run once again\n",
        "# Upload the Sample Audio file\n",
        "sample_file = genai.upload_file(path=sample_selection, display_name=\"Sample_audio\")\n",
        "# Upload the Answer Audio file\n",
        "recording = genai.upload_file(path=\"recording.wav\", display_name=\"Answer audio\")\n",
        "\n",
        "# First Context to the Gemini Ai\n",
        "context = [\"Contextualize and give essential information based on the following audio: \",\n",
        "           sample_file]\n",
        "\n",
        "# Get the Gemini Ai respose\n",
        "response = chat.send_message(context)\n",
        "display(Markdown('## GeminAi English Trainer interpretation:'))\n",
        "Markdown(response.text)"
      ],
      "metadata": {
        "id": "5zoUWA-wRKEn"
      },
      "execution_count": null,
      "outputs": []
    },
    {
      "cell_type": "code",
      "source": [
        "# Context to the Gemini Ai on examplained recording\n",
        "context = ['You are an English proficiency test evaluator. Based on the last conversation, you should analyse how well the ideas and information are explained in the following respose: ',\n",
        "           recording]\n",
        "\n",
        "# Get the Gemini Ai respose\n",
        "response = chat.send_message(context)\n",
        "display(Markdown('## GeminAi English Trainer response evaluation:'))\n",
        "Markdown(response.text)"
      ],
      "metadata": {
        "id": "FFLpd0eZ6BP_"
      },
      "execution_count": null,
      "outputs": []
    },
    {
      "cell_type": "code",
      "source": [
        "# Context to the Gemini Ai to give feedback on pronunciation\n",
        "context = ['You are still an English proficiency test evaluator, make some appointments and suggestions to improve pronunciation for the foreign english learner, based on the following respose: ',\n",
        "           recording]\n",
        "\n",
        "# Get the Gemini Ai respose\n",
        "response = chat.send_message(context)\n",
        "display(Markdown('## GeminAi English Trainer pronunciation suggestions:'))\n",
        "Markdown(response.text)"
      ],
      "metadata": {
        "id": "igtQTcAI81k0"
      },
      "execution_count": null,
      "outputs": []
    },
    {
      "cell_type": "code",
      "source": [
        "# Context to the Gemini Ai to give feedback on grammar\n",
        "context = ['Now, you are still an English proficiency test evaluator, make grammar corretions on the following speech: ',\n",
        "           recording]\n",
        "\n",
        "# Get the Gemini Ai respose\n",
        "response = chat.send_message(context)\n",
        "display(Markdown('## GeminAi English Trainer grammar suggestions:'))\n",
        "Markdown(response.text)"
      ],
      "metadata": {
        "id": "4IGhzMMP9VRo"
      },
      "execution_count": null,
      "outputs": []
    }
  ]
}